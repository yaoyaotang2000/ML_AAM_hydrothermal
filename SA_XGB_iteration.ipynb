{
 "cells": [
  {
   "cell_type": "code",
   "execution_count": 1,
   "id": "d74899e7-3e6c-4507-9a43-d126227e1650",
   "metadata": {},
   "outputs": [],
   "source": [
    "import pandas as pd\n",
    "import numpy as np\n",
    "from sklearn.preprocessing import StandardScaler,PolynomialFeatures\n",
    "from sklearn.model_selection import train_test_split, GridSearchCV, KFold\n",
    "from sklearn.pipeline import Pipeline"
   ]
  },
  {
   "cell_type": "code",
   "execution_count": 2,
   "id": "f17c291b-538f-43bf-ba03-88eabae05d30",
   "metadata": {},
   "outputs": [],
   "source": [
    "#数据加载\n",
    "df=pd.read_excel(r\"C:\\Users\\yaoyao tang\\Desktop\\ML-hydrothermal\\experiment_dataset.xlsx\")\n",
    "df.columns = ['M1','M2','C','V', 'T', 'H', 'Ex', 'Em1','Em2','QY']"
   ]
  },
  {
   "cell_type": "code",
   "execution_count": 3,
   "id": "ce7423b6-10c8-4768-8b81-41c071d1b79f",
   "metadata": {},
   "outputs": [
    {
     "data": {
      "text/html": [
       "<div>\n",
       "<style scoped>\n",
       "    .dataframe tbody tr th:only-of-type {\n",
       "        vertical-align: middle;\n",
       "    }\n",
       "\n",
       "    .dataframe tbody tr th {\n",
       "        vertical-align: top;\n",
       "    }\n",
       "\n",
       "    .dataframe thead th {\n",
       "        text-align: right;\n",
       "    }\n",
       "</style>\n",
       "<table border=\"1\" class=\"dataframe\">\n",
       "  <thead>\n",
       "    <tr style=\"text-align: right;\">\n",
       "      <th></th>\n",
       "      <th>M1</th>\n",
       "      <th>M2</th>\n",
       "      <th>C</th>\n",
       "      <th>V</th>\n",
       "      <th>T</th>\n",
       "      <th>H</th>\n",
       "      <th>Ex</th>\n",
       "      <th>Em1</th>\n",
       "      <th>Em2</th>\n",
       "      <th>QY</th>\n",
       "    </tr>\n",
       "  </thead>\n",
       "  <tbody>\n",
       "    <tr>\n",
       "      <th>0</th>\n",
       "      <td>0.6</td>\n",
       "      <td>0.4</td>\n",
       "      <td>2</td>\n",
       "      <td>15</td>\n",
       "      <td>200</td>\n",
       "      <td>10</td>\n",
       "      <td>562</td>\n",
       "      <td>624</td>\n",
       "      <td>676</td>\n",
       "      <td>15.5</td>\n",
       "    </tr>\n",
       "    <tr>\n",
       "      <th>1</th>\n",
       "      <td>0.8</td>\n",
       "      <td>0.8</td>\n",
       "      <td>4</td>\n",
       "      <td>15</td>\n",
       "      <td>140</td>\n",
       "      <td>12</td>\n",
       "      <td>562</td>\n",
       "      <td>630</td>\n",
       "      <td>678</td>\n",
       "      <td>15.0</td>\n",
       "    </tr>\n",
       "    <tr>\n",
       "      <th>2</th>\n",
       "      <td>1.0</td>\n",
       "      <td>1.0</td>\n",
       "      <td>2</td>\n",
       "      <td>15</td>\n",
       "      <td>140</td>\n",
       "      <td>10</td>\n",
       "      <td>562</td>\n",
       "      <td>626</td>\n",
       "      <td>678</td>\n",
       "      <td>19.3</td>\n",
       "    </tr>\n",
       "    <tr>\n",
       "      <th>3</th>\n",
       "      <td>0.8</td>\n",
       "      <td>0.8</td>\n",
       "      <td>2</td>\n",
       "      <td>10</td>\n",
       "      <td>180</td>\n",
       "      <td>4</td>\n",
       "      <td>562</td>\n",
       "      <td>624</td>\n",
       "      <td>678</td>\n",
       "      <td>14.6</td>\n",
       "    </tr>\n",
       "    <tr>\n",
       "      <th>4</th>\n",
       "      <td>1.0</td>\n",
       "      <td>1.0</td>\n",
       "      <td>6</td>\n",
       "      <td>15</td>\n",
       "      <td>160</td>\n",
       "      <td>12</td>\n",
       "      <td>562</td>\n",
       "      <td>630</td>\n",
       "      <td>678</td>\n",
       "      <td>14.5</td>\n",
       "    </tr>\n",
       "  </tbody>\n",
       "</table>\n",
       "</div>"
      ],
      "text/plain": [
       "    M1   M2  C   V    T   H   Ex  Em1  Em2    QY\n",
       "0  0.6  0.4  2  15  200  10  562  624  676  15.5\n",
       "1  0.8  0.8  4  15  140  12  562  630  678  15.0\n",
       "2  1.0  1.0  2  15  140  10  562  626  678  19.3\n",
       "3  0.8  0.8  2  10  180   4  562  624  678  14.6\n",
       "4  1.0  1.0  6  15  160  12  562  630  678  14.5"
      ]
     },
     "execution_count": 3,
     "metadata": {},
     "output_type": "execute_result"
    }
   ],
   "source": [
    "df.head()"
   ]
  },
  {
   "cell_type": "code",
   "execution_count": 4,
   "id": "0a2384ac-3103-4f42-8d23-88ca90c51601",
   "metadata": {},
   "outputs": [],
   "source": [
    "x=np.array(df.loc[:,\"M1\":\"H\"])\n",
    "y=np.array(df.loc[:,\"QY\"])"
   ]
  },
  {
   "cell_type": "code",
   "execution_count": 5,
   "id": "1ceaed49-9373-453e-bb93-c69ab77ff307",
   "metadata": {},
   "outputs": [],
   "source": [
    "from sklearn.metrics import r2_score,mean_absolute_error,mean_squared_error\n",
    "from math import sqrt\n",
    "def test(y_pred,y_true):\n",
    "    r2=r2_score(y_true,y_pred)\n",
    "    rmse=sqrt(mean_squared_error(y_pred,y_true))\n",
    "    mae=mean_absolute_error(y_pred,y_true)\n",
    "    return np.array([r2,rmse,mae])"
   ]
  },
  {
   "cell_type": "code",
   "execution_count": 5,
   "id": "14237588-4fb2-4def-b3e6-cb17e6d5c99e",
   "metadata": {},
   "outputs": [
    {
     "name": "stdout",
     "output_type": "stream",
     "text": [
      "Fitting 5 folds for each of 11 candidates, totalling 55 fits\n",
      "参数的最佳取值：{'n_estimators': 40}\n",
      "最佳模型得分:0.6266832208222005\n",
      "[0.94819789 1.36092103 1.0305451 ]\n"
     ]
    }
   ],
   "source": [
    "from xgboost.sklearn import XGBRegressor #XGB\n",
    "cv_params = {'n_estimators': [10,20,30,40,50,60,70,80,90,100,110]}\n",
    "\n",
    "other_params = {'learning_rate': 0.1, 'n_estimators': 500, 'max_depth': 5, 'min_child_weight': 1, 'seed': 0,\n",
    "                    'subsample': 0.8, 'colsample_bytree': 0.8, 'gamma': 0, 'reg_alpha': 0, 'reg_lambda': 1}\n",
    "\n",
    "model = XGBRegressor(**other_params)\n",
    "xgb_cv = GridSearchCV(estimator=model, param_grid=cv_params, scoring='r2', cv=5, verbose=1, n_jobs=4)\n",
    "xgb_cv.fit(x, y)\n",
    "print('参数的最佳取值：{0}'.format(xgb_cv.best_params_))\n",
    "print('最佳模型得分:{0}'.format(xgb_cv.best_score_))\n",
    "print(test(xgb_cv.predict(x),y))"
   ]
  },
  {
   "cell_type": "code",
   "execution_count": 6,
   "id": "b542757f-dd47-4db3-aaf4-a8a2026250a9",
   "metadata": {},
   "outputs": [
    {
     "name": "stdout",
     "output_type": "stream",
     "text": [
      "Fitting 5 folds for each of 81 candidates, totalling 405 fits\n",
      "参数的最佳取值：{'max_depth': 3, 'min_child_weight': 5}\n",
      "最佳模型得分:0.6599786430433517\n",
      "[0.8761173  2.10457563 1.56506747]\n"
     ]
    }
   ],
   "source": [
    "cv_params = { 'max_depth': [1,2,3, 4,5,6,7,8,9], 'min_child_weight': [1, 2, 3, 4,5,6,7,8,9]}\n",
    "\n",
    "other_params = {'learning_rate': 0.1, 'n_estimators':40, 'max_depth': 5, 'min_child_weight': 1, 'seed': 0,\n",
    "                    'subsample': 0.8, 'colsample_bytree': 0.8, 'gamma': 0, 'reg_alpha': 0, 'reg_lambda': 1}\n",
    "\n",
    "model = XGBRegressor(**other_params)\n",
    "xgb_cv = GridSearchCV(estimator=model, param_grid=cv_params, scoring='r2', cv=5, verbose=1, n_jobs=4)\n",
    "xgb_cv.fit(x, y)\n",
    "print('参数的最佳取值：{0}'.format(xgb_cv.best_params_))\n",
    "print('最佳模型得分:{0}'.format(xgb_cv.best_score_))\n",
    "\n",
    "print(test(xgb_cv.predict(x),y))"
   ]
  },
  {
   "cell_type": "code",
   "execution_count": 7,
   "id": "42b539e9-21cd-40e5-aea5-abad420b4b2b",
   "metadata": {},
   "outputs": [
    {
     "name": "stdout",
     "output_type": "stream",
     "text": [
      "Fitting 5 folds for each of 9 candidates, totalling 45 fits\n",
      "参数的最佳取值：{'gamma': 0.2}\n",
      "最佳模型得分:0.6601520477368034\n",
      "[0.87841878 2.08493467 1.56470637]\n"
     ]
    }
   ],
   "source": [
    "cv_params = { 'gamma': [0.0001,0.001,0.01,0.05,0.08,0.1,0.15, 0.2, 0.3]}\n",
    "\n",
    "other_params = {'learning_rate': 0.1, 'n_estimators': 40, 'max_depth': 3, 'min_child_weight': 5, 'seed': 0,\n",
    "                    'subsample': 0.8, 'colsample_bytree': 0.8, 'gamma': 0, 'reg_alpha': 0, 'reg_lambda': 1}\n",
    "\n",
    "model = XGBRegressor(**other_params)\n",
    "xgb_cv = GridSearchCV(estimator=model, param_grid=cv_params, scoring='r2', cv=5, verbose=1, n_jobs=4)\n",
    "xgb_cv.fit(x, y)\n",
    "print('参数的最佳取值：{0}'.format(xgb_cv.best_params_))\n",
    "print('最佳模型得分:{0}'.format(xgb_cv.best_score_))\n",
    "\n",
    "print(test(xgb_cv.predict(x),y))"
   ]
  },
  {
   "cell_type": "code",
   "execution_count": 8,
   "id": "7701446b-9b01-4378-9c45-edda58d64623",
   "metadata": {},
   "outputs": [
    {
     "name": "stdout",
     "output_type": "stream",
     "text": [
      "Fitting 5 folds for each of 49 candidates, totalling 245 fits\n",
      "参数的最佳取值：{'colsample_bytree': 1, 'subsample': 0.6}\n",
      "最佳模型得分:0.6874341710151395\n",
      "[0.87988586 2.07231744 1.55009563]\n"
     ]
    }
   ],
   "source": [
    "cv_params = { 'subsample': [0.4,0.5,0.6,0.7,0.8,0.9,1], \n",
    "             'colsample_bytree': [0.4,0.5,0.6,0.7,0.8,0.9,1]}\n",
    "\n",
    "other_params = {'learning_rate': 0.1, 'n_estimators': 40, 'max_depth': 3, 'min_child_weight': 5, 'seed': 0,\n",
    "                    'subsample': 0.8, 'colsample_bytree': 0.8, 'gamma': 0.2, 'reg_alpha': 0, 'reg_lambda': 1}\n",
    "\n",
    "model = XGBRegressor(**other_params)\n",
    "xgb_cv = GridSearchCV(estimator=model, param_grid=cv_params, scoring='r2', cv=5, verbose=1, n_jobs=4)\n",
    "xgb_cv.fit(x, y)\n",
    "print('参数的最佳取值：{0}'.format(xgb_cv.best_params_))\n",
    "print('最佳模型得分:{0}'.format(xgb_cv.best_score_))\n",
    "\n",
    "print(test(xgb_cv.predict(x),y))"
   ]
  },
  {
   "cell_type": "code",
   "execution_count": 9,
   "id": "58efff28-cb82-4dc4-bb96-b3ace12638b4",
   "metadata": {},
   "outputs": [
    {
     "name": "stdout",
     "output_type": "stream",
     "text": [
      "Fitting 5 folds for each of 24 candidates, totalling 120 fits\n",
      "参数的最佳取值：{'reg_alpha': 0.1, 'reg_lambda': 5}\n",
      "最佳模型得分:0.7031157158749469\n",
      "[0.85672792 2.26328887 1.68314895]\n"
     ]
    }
   ],
   "source": [
    "cv_params = { 'reg_alpha': [0.05,0.01, 0.1, 1], 'reg_lambda': [0.05,0.01, 0.1, 1,5,10]}\n",
    "\n",
    "other_params = {'learning_rate': 0.1, 'n_estimators': 40, 'max_depth': 3, 'min_child_weight': 5, 'seed': 0,\n",
    "                    'subsample': 0.6, 'colsample_bytree': 1, 'gamma': 0.2, 'reg_alpha': 0, 'reg_lambda': 1}\n",
    "\n",
    "model = XGBRegressor(**other_params)\n",
    "xgb_cv = GridSearchCV(estimator=model, param_grid=cv_params, scoring='r2', cv=5, verbose=1, n_jobs=4)\n",
    "xgb_cv.fit(x, y)\n",
    "print('参数的最佳取值：{0}'.format(xgb_cv.best_params_))\n",
    "print('最佳模型得分:{0}'.format(xgb_cv.best_score_))\n",
    "\n",
    "print(test(xgb_cv.predict(x),y))"
   ]
  },
  {
   "cell_type": "code",
   "execution_count": 10,
   "id": "7fb6628d-e701-452c-92b0-c8542b9a9e4c",
   "metadata": {},
   "outputs": [
    {
     "name": "stdout",
     "output_type": "stream",
     "text": [
      "Fitting 5 folds for each of 8 candidates, totalling 40 fits\n",
      "参数的最佳取值：{'learning_rate': 0.1}\n",
      "最佳模型得分:0.7031157158749469\n",
      "[0.85672792 2.26328887 1.68314895]\n"
     ]
    }
   ],
   "source": [
    "cv_params = {  'learning_rate': [0.001, 0.01, 0.05, 0.07, 0.1,0.3,0.5,1]}\n",
    "\n",
    "other_params = {'learning_rate': 0.1, 'n_estimators': 40, 'max_depth': 3, 'min_child_weight': 5, 'seed': 0,\n",
    "                    'subsample': 0.6, 'colsample_bytree': 1, 'gamma': 0.2, 'reg_alpha': 0.1, 'reg_lambda': 5}\n",
    "\n",
    "model = XGBRegressor(**other_params)\n",
    "xgb_cv = GridSearchCV(estimator=model, param_grid=cv_params, scoring='r2', cv=5, verbose=1, n_jobs=4)\n",
    "xgb_cv.fit(x, y)\n",
    "print('参数的最佳取值：{0}'.format(xgb_cv.best_params_))\n",
    "print('最佳模型得分:{0}'.format(xgb_cv.best_score_))\n",
    "\n",
    "print(test(xgb_cv.predict(x),y))"
   ]
  },
  {
   "cell_type": "code",
   "execution_count": 6,
   "id": "310d64a8-224c-4741-b5df-d4b026339d39",
   "metadata": {},
   "outputs": [
    {
     "name": "stdout",
     "output_type": "stream",
     "text": [
      "[0.97449514 0.95674813 0.71473005]\n"
     ]
    }
   ],
   "source": [
    "#选择SA作为优化算法\n",
    "#硫酸浓度过高反而影响效果\n",
    "#根据新的数据重新训练模型\n",
    "#得到最佳参数进行训练模型\n",
    "from xgboost.sklearn import XGBRegressor #XGB\n",
    "global model\n",
    "other_params = {'learning_rate': 0.1, 'n_estimators': 110, 'max_depth': 4, 'min_child_weight': 2, 'seed': 0,\n",
    "                    'subsample': 0.9, 'colsample_bytree': 0.9, 'gamma': 0.15, 'reg_alpha': 0.05, 'reg_lambda': 1}\n",
    "model = XGBRegressor(**other_params)\n",
    "model.fit(x, y)\n",
    "print(test(model.predict(x),y))"
   ]
  },
  {
   "cell_type": "code",
   "execution_count": 7,
   "id": "a5862f64-fab6-41e5-9f1c-271f8ec6a174",
   "metadata": {},
   "outputs": [
    {
     "name": "stdout",
     "output_type": "stream",
     "text": [
      "[0.03493008 0.0371764  0.64399636 0.0585841  0.1533879  0.07192518]\n"
     ]
    }
   ],
   "source": [
    "print(model.feature_importances_)"
   ]
  },
  {
   "cell_type": "code",
   "execution_count": 12,
   "id": "598aeebe-c516-4f46-a6c1-070ebef36b87",
   "metadata": {},
   "outputs": [
    {
     "data": {
      "image/png": "[encoded data removed]",
      "text/plain": [
       "<Figure size 640x480 with 1 Axes>"
      ]
     },
     "metadata": {},
     "output_type": "display_data"
    }
   ],
   "source": [
    "import xgboost as xgb\n",
    "from xgboost import plot_tree\n",
    "import matplotlib.pyplot as plt\n",
    "\n",
    "plot_tree(model,fmap='', num_trees=2, rankdir='UT', ax=None)\n",
    "\n",
    "plt.savefig('./photo/XGBoost.png', dpi=300)\n",
    "plt.show()"
   ]
  },
  {
   "cell_type": "code",
   "execution_count": null,
   "id": "0ca80c71-31eb-4862-a708-e64e1354bd21",
   "metadata": {},
   "outputs": [],
   "source": []
  },
  {
   "cell_type": "code",
   "execution_count": 19,
   "id": "4661683b-9b79-4c80-9f23-dd1a361c992a",
   "metadata": {},
   "outputs": [
    {
     "name": "stdout",
     "output_type": "stream",
     "text": [
      "1\n",
      "实验条件为： [  0.67044836   0.51355209   6.01367123  13.36017335 195.72329101\n",
      "   2.        ]\n",
      "预测产率为： -22.219805\n",
      "2\n",
      "实验条件为： [  0.60060504   0.5111561    5.77270149  13.19965981 200.\n",
      "   2.3535941 ]\n",
      "预测产率为： -22.219805\n",
      "3\n",
      "实验条件为： [  0.57312744   0.51756731   6.44945071  12.62284804 199.70729081\n",
      "   2.0417665 ]\n",
      "预测产率为： -22.219805\n",
      "4\n",
      "实验条件为： [  0.65335392   0.5397308    6.04794731  12.97630453 194.41101155\n",
      "   2.12807021]\n",
      "预测产率为： -22.219805\n",
      "5\n",
      "实验条件为： [  0.65554773   0.51401419   6.05899208  12.7165076  199.99286333\n",
      "   2.26854141]\n",
      "预测产率为： -22.219805\n",
      "6\n",
      "实验条件为： [  0.60804509   0.53085757   6.12656213  13.29471739 200.\n",
      "   2.        ]\n",
      "预测产率为： -22.219805\n",
      "7\n",
      "实验条件为： [  0.62418328   0.51638659   6.18029565  13.22536779 199.94053448\n",
      "   3.14783813]\n",
      "预测产率为： -22.219805\n",
      "8\n",
      "实验条件为： [  0.58828209   0.54035311   6.40572989  13.1754456  200.\n",
      "   2.        ]\n",
      "预测产率为： -22.219805\n",
      "9\n",
      "实验条件为： [  0.55429154   0.53076335   6.12294782  13.37413192 197.2787472\n",
      "   2.10299674]\n",
      "预测产率为： -22.219805\n",
      "10\n",
      "实验条件为： [  0.56463231   0.50430573   5.69999998  13.22181228 193.58932216\n",
      "   2.18794806]\n",
      "预测产率为： -22.219805\n"
     ]
    }
   ],
   "source": [
    "from sko.SA import SA\n",
    "\n",
    "def obj_func(x):\n",
    "    return -model.predict(x.reshape(1,6))[0]\n",
    "\n",
    "constraint_ueq =[\n",
    "    lambda x: 0 - x[0] * x[1],\n",
    "    lambda x: x[0] + x[1] - 3\n",
    "]\n",
    "for i in range(10):\n",
    "    print(i+1)\n",
    "    sa = SA(func=obj_func, x0=[0,0,2,10,160,6], T_max=30, T_min=1e-9, L=300, max_stay_counter=150, lb=[0,0,0,0,100,2],ub=[3,3,10,20,200,12])\n",
    "    best_x, best_y = sa.run()\n",
    "    print(\"实验条件为：\",best_x)\n",
    "    print(\"预测产率为：\",best_y)"
   ]
  },
  {
   "cell_type": "code",
   "execution_count": null,
   "id": "f4a5bf59-53d7-4bc4-ad59-3670bc152551",
   "metadata": {},
   "outputs": [],
   "source": []
  }
 ],
 "metadata": {
  "kernelspec": {
   "display_name": "Python 3 (ipykernel)",
   "language": "python",
   "name": "python3"
  },
  "language_info": {
   "codemirror_mode": {
    "name": "ipython",
    "version": 3
   },
   "file_extension": ".py",
   "mimetype": "text/x-python",
   "name": "python",
   "nbconvert_exporter": "python",
   "pygments_lexer": "ipython3",
   "version": "3.8.17"
  }
 },
 "nbformat": 4,
 "nbformat_minor": 5
}
