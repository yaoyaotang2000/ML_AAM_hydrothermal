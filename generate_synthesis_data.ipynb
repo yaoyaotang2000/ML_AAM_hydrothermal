{
 "cells": [
  {
   "cell_type": "markdown",
   "id": "71df3e41",
   "metadata": {},
   "source": [
    "#对实验条件随机生成，并选取其中300组作为实验"
   ]
  },
  {
   "cell_type": "code",
   "execution_count": 1,
   "id": "ecfd96ce",
   "metadata": {},
   "outputs": [],
   "source": [
    "#xy 分别表示领苯二胺和络氨酸前驱体质量\n",
    "import numpy as np\n",
    "x=np.arange(0.2,1.2,0.2)\n",
    "y=np.arange(0.2,1.2,0.2)\n",
    "con=np.array([1,2,4,6,8])\n",
    "vol=np.array([5,10,15])\n",
    "tem=np.arange(140,220,20)\n",
    "time=np.arange(4,14,2)"
   ]
  },
  {
   "cell_type": "code",
   "execution_count": 2,
   "id": "5a58a442",
   "metadata": {},
   "outputs": [
    {
     "name": "stdout",
     "output_type": "stream",
     "text": [
      "[ 4  6  8 10 12]\n"
     ]
    }
   ],
   "source": [
    "print(time)"
   ]
  },
  {
   "cell_type": "code",
   "execution_count": 3,
   "id": "f362d981",
   "metadata": {},
   "outputs": [],
   "source": [
    "total=len(x)*len(y)*len(con)*len(vol)*len(tem)*len(time)"
   ]
  },
  {
   "cell_type": "code",
   "execution_count": 4,
   "id": "8ba311ac-45cb-44f0-b17f-3e712dcfef17",
   "metadata": {},
   "outputs": [],
   "source": [
    "total_var=np.zeros((total,6))"
   ]
  },
  {
   "cell_type": "code",
   "execution_count": 5,
   "id": "307bfdda-1f92-4d69-97af-7ef657a90302",
   "metadata": {},
   "outputs": [],
   "source": [
    "count=0\n",
    "for a in x:\n",
    "    for b in y:\n",
    "        for c in con:\n",
    "            for d in vol:\n",
    "                for e in tem:\n",
    "                    for f in time:\n",
    "                        total_var[count]=np.array([a,b,c,d,e,f])\n",
    "                        count=count+1"
   ]
  },
  {
   "cell_type": "code",
   "execution_count": 6,
   "id": "3c8e1362-3405-49da-9fed-10bde54038f2",
   "metadata": {},
   "outputs": [],
   "source": [
    "#numpy.random.shuffle(x)函数通过混洗其内容来就地修改序列，返回值None；\n",
    "#numpy.random.permutation(x)会返回一个新的数组而不修改原数组。\n",
    "#打乱生成的实验条件数据\n",
    "np.random.shuffle(total_var)"
   ]
  },
  {
   "cell_type": "code",
   "execution_count": 7,
   "id": "67f8a12a-b359-4be2-a4a8-331487ec9eef",
   "metadata": {},
   "outputs": [],
   "source": [
    "#保存二维数组\n",
    "import csv\n",
    "np.savetxt(\"experiment_dataset.csv\",total_var,delimiter=',')"
   ]
  },
  {
   "cell_type": "code",
   "execution_count": 8,
   "id": "3b78bb28-831c-4c8f-9f3c-1b442a18c277",
   "metadata": {},
   "outputs": [
    {
     "data": {
      "text/plain": [
       "array([[  0.6,   0.4,   2. ,  15. , 200. ,  10. ],\n",
       "       [  0.8,   0.8,   4. ,  15. , 140. ,  12. ],\n",
       "       [  1. ,   1. ,   2. ,  15. , 140. ,  10. ],\n",
       "       [  0.8,   0.8,   2. ,  10. , 180. ,   6. ],\n",
       "       [  1. ,   1. ,   6. ,  15. , 160. ,  12. ]])"
      ]
     },
     "execution_count": 8,
     "metadata": {},
     "output_type": "execute_result"
    }
   ],
   "source": [
    "total_var[0:5,:]"
   ]
  },
  {
   "cell_type": "code",
   "execution_count": null,
   "id": "1412918d-bd8c-4d52-a963-f851b18905a3",
   "metadata": {},
   "outputs": [],
   "source": []
  }
 ],
 "metadata": {
  "kernelspec": {
   "display_name": "Python 3 (ipykernel)",
   "language": "python",
   "name": "python3"
  },
  "language_info": {
   "codemirror_mode": {
    "name": "ipython",
    "version": 3
   },
   "file_extension": ".py",
   "mimetype": "text/x-python",
   "name": "python",
   "nbconvert_exporter": "python",
   "pygments_lexer": "ipython3",
   "version": "3.8.17"
  }
 },
 "nbformat": 4,
 "nbformat_minor": 5
}
