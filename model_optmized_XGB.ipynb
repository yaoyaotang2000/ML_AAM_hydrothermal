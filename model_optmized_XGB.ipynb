{
 "cells": [
  {
   "cell_type": "code",
   "execution_count": 1,
   "id": "58be90f0",
   "metadata": {
    "scrolled": true
   },
   "outputs": [],
   "source": [
    "\n",
    "import pandas as pd\n",
    "import numpy as np\n",
    "from sklearn.preprocessing import StandardScaler,PolynomialFeatures\n",
    "from sklearn.model_selection import train_test_split, GridSearchCV, KFold\n",
    "from sklearn.pipeline import Pipeline"
   ]
  },
  {
   "cell_type": "code",
   "execution_count": 2,
   "id": "8e1229f3",
   "metadata": {},
   "outputs": [
    {
     "data": {
      "text/html": [
       "<div>\n",
       "<style scoped>\n",
       "    .dataframe tbody tr th:only-of-type {\n",
       "        vertical-align: middle;\n",
       "    }\n",
       "\n",
       "    .dataframe tbody tr th {\n",
       "        vertical-align: top;\n",
       "    }\n",
       "\n",
       "    .dataframe thead th {\n",
       "        text-align: right;\n",
       "    }\n",
       "</style>\n",
       "<table border=\"1\" class=\"dataframe\">\n",
       "  <thead>\n",
       "    <tr style=\"text-align: right;\">\n",
       "      <th></th>\n",
       "      <th>邻苯二胺</th>\n",
       "      <th>酪氨酸</th>\n",
       "      <th>浓度</th>\n",
       "      <th>体积</th>\n",
       "      <th>温度</th>\n",
       "      <th>时间</th>\n",
       "      <th>Ex</th>\n",
       "      <th>Em1</th>\n",
       "      <th>Em2</th>\n",
       "      <th>QY</th>\n",
       "    </tr>\n",
       "  </thead>\n",
       "  <tbody>\n",
       "    <tr>\n",
       "      <th>0</th>\n",
       "      <td>0.6</td>\n",
       "      <td>0.4</td>\n",
       "      <td>2</td>\n",
       "      <td>15</td>\n",
       "      <td>200</td>\n",
       "      <td>10</td>\n",
       "      <td>562</td>\n",
       "      <td>624</td>\n",
       "      <td>676</td>\n",
       "      <td>15.5</td>\n",
       "    </tr>\n",
       "    <tr>\n",
       "      <th>1</th>\n",
       "      <td>0.8</td>\n",
       "      <td>0.8</td>\n",
       "      <td>4</td>\n",
       "      <td>15</td>\n",
       "      <td>140</td>\n",
       "      <td>12</td>\n",
       "      <td>562</td>\n",
       "      <td>630</td>\n",
       "      <td>678</td>\n",
       "      <td>15.0</td>\n",
       "    </tr>\n",
       "    <tr>\n",
       "      <th>2</th>\n",
       "      <td>1.0</td>\n",
       "      <td>1.0</td>\n",
       "      <td>2</td>\n",
       "      <td>15</td>\n",
       "      <td>140</td>\n",
       "      <td>10</td>\n",
       "      <td>562</td>\n",
       "      <td>626</td>\n",
       "      <td>678</td>\n",
       "      <td>19.3</td>\n",
       "    </tr>\n",
       "    <tr>\n",
       "      <th>3</th>\n",
       "      <td>0.8</td>\n",
       "      <td>0.8</td>\n",
       "      <td>2</td>\n",
       "      <td>10</td>\n",
       "      <td>180</td>\n",
       "      <td>4</td>\n",
       "      <td>562</td>\n",
       "      <td>624</td>\n",
       "      <td>678</td>\n",
       "      <td>14.6</td>\n",
       "    </tr>\n",
       "    <tr>\n",
       "      <th>4</th>\n",
       "      <td>1.0</td>\n",
       "      <td>1.0</td>\n",
       "      <td>6</td>\n",
       "      <td>15</td>\n",
       "      <td>160</td>\n",
       "      <td>12</td>\n",
       "      <td>562</td>\n",
       "      <td>630</td>\n",
       "      <td>678</td>\n",
       "      <td>14.5</td>\n",
       "    </tr>\n",
       "  </tbody>\n",
       "</table>\n",
       "</div>"
      ],
      "text/plain": [
       "   邻苯二胺  酪氨酸  浓度  体积   温度  时间   Ex  Em1  Em2    QY\n",
       "0   0.6  0.4   2  15  200  10  562  624  676  15.5\n",
       "1   0.8  0.8   4  15  140  12  562  630  678  15.0\n",
       "2   1.0  1.0   2  15  140  10  562  626  678  19.3\n",
       "3   0.8  0.8   2  10  180   4  562  624  678  14.6\n",
       "4   1.0  1.0   6  15  160  12  562  630  678  14.5"
      ]
     },
     "execution_count": 2,
     "metadata": {},
     "output_type": "execute_result"
    }
   ],
   "source": [
    "#数据加载\n",
    "df=pd.read_excel(r\"C:\\Users\\yaoyao tang\\Desktop\\ML-hydrothermal\\experiment_dataset.xlsx\")\n",
    "df.head()"
   ]
  },
  {
   "cell_type": "code",
   "execution_count": 3,
   "id": "5001840a",
   "metadata": {},
   "outputs": [
    {
     "data": {
      "text/html": [
       "<div>\n",
       "<style scoped>\n",
       "    .dataframe tbody tr th:only-of-type {\n",
       "        vertical-align: middle;\n",
       "    }\n",
       "\n",
       "    .dataframe tbody tr th {\n",
       "        vertical-align: top;\n",
       "    }\n",
       "\n",
       "    .dataframe thead th {\n",
       "        text-align: right;\n",
       "    }\n",
       "</style>\n",
       "<table border=\"1\" class=\"dataframe\">\n",
       "  <thead>\n",
       "    <tr style=\"text-align: right;\">\n",
       "      <th></th>\n",
       "      <th>M1</th>\n",
       "      <th>M2</th>\n",
       "      <th>C</th>\n",
       "      <th>V</th>\n",
       "      <th>T</th>\n",
       "      <th>H</th>\n",
       "      <th>Ex</th>\n",
       "      <th>Em1</th>\n",
       "      <th>Em2</th>\n",
       "      <th>QY</th>\n",
       "    </tr>\n",
       "  </thead>\n",
       "  <tbody>\n",
       "    <tr>\n",
       "      <th>0</th>\n",
       "      <td>0.6</td>\n",
       "      <td>0.4</td>\n",
       "      <td>2</td>\n",
       "      <td>15</td>\n",
       "      <td>200</td>\n",
       "      <td>10</td>\n",
       "      <td>562</td>\n",
       "      <td>624</td>\n",
       "      <td>676</td>\n",
       "      <td>15.5</td>\n",
       "    </tr>\n",
       "    <tr>\n",
       "      <th>1</th>\n",
       "      <td>0.8</td>\n",
       "      <td>0.8</td>\n",
       "      <td>4</td>\n",
       "      <td>15</td>\n",
       "      <td>140</td>\n",
       "      <td>12</td>\n",
       "      <td>562</td>\n",
       "      <td>630</td>\n",
       "      <td>678</td>\n",
       "      <td>15.0</td>\n",
       "    </tr>\n",
       "    <tr>\n",
       "      <th>2</th>\n",
       "      <td>1.0</td>\n",
       "      <td>1.0</td>\n",
       "      <td>2</td>\n",
       "      <td>15</td>\n",
       "      <td>140</td>\n",
       "      <td>10</td>\n",
       "      <td>562</td>\n",
       "      <td>626</td>\n",
       "      <td>678</td>\n",
       "      <td>19.3</td>\n",
       "    </tr>\n",
       "    <tr>\n",
       "      <th>3</th>\n",
       "      <td>0.8</td>\n",
       "      <td>0.8</td>\n",
       "      <td>2</td>\n",
       "      <td>10</td>\n",
       "      <td>180</td>\n",
       "      <td>4</td>\n",
       "      <td>562</td>\n",
       "      <td>624</td>\n",
       "      <td>678</td>\n",
       "      <td>14.6</td>\n",
       "    </tr>\n",
       "    <tr>\n",
       "      <th>4</th>\n",
       "      <td>1.0</td>\n",
       "      <td>1.0</td>\n",
       "      <td>6</td>\n",
       "      <td>15</td>\n",
       "      <td>160</td>\n",
       "      <td>12</td>\n",
       "      <td>562</td>\n",
       "      <td>630</td>\n",
       "      <td>678</td>\n",
       "      <td>14.5</td>\n",
       "    </tr>\n",
       "  </tbody>\n",
       "</table>\n",
       "</div>"
      ],
      "text/plain": [
       "    M1   M2  C   V    T   H   Ex  Em1  Em2    QY\n",
       "0  0.6  0.4  2  15  200  10  562  624  676  15.5\n",
       "1  0.8  0.8  4  15  140  12  562  630  678  15.0\n",
       "2  1.0  1.0  2  15  140  10  562  626  678  19.3\n",
       "3  0.8  0.8  2  10  180   4  562  624  678  14.6\n",
       "4  1.0  1.0  6  15  160  12  562  630  678  14.5"
      ]
     },
     "execution_count": 3,
     "metadata": {},
     "output_type": "execute_result"
    }
   ],
   "source": [
    "df.columns = ['M1','M2','C','V', 'T', 'H', 'Ex', 'Em1','Em2','QY']\n",
    "df.head()"
   ]
  },
  {
   "cell_type": "code",
   "execution_count": 4,
   "id": "b4dfc9f7",
   "metadata": {},
   "outputs": [],
   "source": [
    "x=np.array(df.loc[:,\"M1\":\"H\"])\n",
    "y=np.array(df.loc[:,\"QY\"])"
   ]
  },
  {
   "cell_type": "code",
   "execution_count": 5,
   "id": "26e7e1d4-9c90-468b-80cb-d64490b1fde1",
   "metadata": {},
   "outputs": [
    {
     "name": "stdout",
     "output_type": "stream",
     "text": [
      "(216, 6)\n",
      "(216,)\n"
     ]
    }
   ],
   "source": [
    "print(x.shape)\n",
    "print(y.shape)"
   ]
  },
  {
   "cell_type": "code",
   "execution_count": 6,
   "id": "9e5ac57b-de3a-480e-9cc6-a01e95092f85",
   "metadata": {},
   "outputs": [],
   "source": [
    "from sklearn.metrics import r2_score,mean_absolute_error,mean_squared_error\n",
    "from math import sqrt\n",
    "def test(y_pred,y_true):\n",
    "    r2=r2_score(y_true,y_pred)\n",
    "    rmse=sqrt(mean_squared_error(y_pred,y_true))\n",
    "    mae=mean_absolute_error(y_pred,y_true)\n",
    "    return np.array([r2,rmse,mae])"
   ]
  },
  {
   "cell_type": "code",
   "execution_count": 7,
   "id": "85b9cfcd-82e5-4963-af18-ccaa0869dfd7",
   "metadata": {},
   "outputs": [],
   "source": [
    "import pandas as pd\n",
    "import numpy as np\n",
    "from xgboost.sklearn import XGBRegressor #XGB\n",
    "\n",
    "from sklearn.model_selection import GridSearchCV, StratifiedKFold,train_test_split\n",
    "from sklearn import metrics \n",
    "\n",
    "#handle warnings\n",
    "import warnings\n",
    "warnings.filterwarnings(\"ignore\")"
   ]
  },
  {
   "cell_type": "code",
   "execution_count": 9,
   "id": "65169ec6-d7d1-4aeb-b165-8f94ced88d05",
   "metadata": {},
   "outputs": [],
   "source": [
    "x_train, x_test, y_train, y_test=train_test_split(x,y,test_size=0.2)"
   ]
  },
  {
   "cell_type": "code",
   "execution_count": 11,
   "id": "10372e93-328a-404b-a954-4f9544fba027",
   "metadata": {},
   "outputs": [
    {
     "name": "stdout",
     "output_type": "stream",
     "text": [
      "Fitting 5 folds for each of 9 candidates, totalling 45 fits\n",
      "参数的最佳取值：{'n_estimators': 110}\n",
      "最佳模型得分:0.7362348903540188\n",
      "测试集得分:0.8165838506797424\n",
      "[0.95292451 1.2973484  0.74163661]\n"
     ]
    }
   ],
   "source": [
    "cv_params = {'n_estimators': [40,50,60,70,80,90,100,110,120]}\n",
    "\n",
    "other_params = {'learning_rate': 0.1, 'n_estimators': 500, 'max_depth': 5, 'min_child_weight': 1, 'seed': 0,\n",
    "                    'subsample': 0.8, 'colsample_bytree': 0.8, 'gamma': 0, 'reg_alpha': 0, 'reg_lambda': 1}\n",
    "\n",
    "model = XGBRegressor(**other_params)\n",
    "xgb_cv = GridSearchCV(estimator=model, param_grid=cv_params, scoring='r2', cv=5, verbose=1, n_jobs=4)\n",
    "xgb_cv.fit(x_train, y_train)\n",
    "print('参数的最佳取值：{0}'.format(xgb_cv.best_params_))\n",
    "print('最佳模型得分:{0}'.format(xgb_cv.best_score_))\n",
    "print(\"测试集得分:{0}\".format(xgb_cv.score(x_test,y_test)))\n",
    "print(test(xgb_cv.predict(x),y))"
   ]
  },
  {
   "cell_type": "code",
   "execution_count": 12,
   "id": "fc6583ee-163b-4da0-80a6-8e08bc10d794",
   "metadata": {},
   "outputs": [
    {
     "name": "stdout",
     "output_type": "stream",
     "text": [
      "Fitting 5 folds for each of 81 candidates, totalling 405 fits\n",
      "参数的最佳取值：{'max_depth': 4, 'min_child_weight': 2}\n",
      "最佳模型得分:0.7743411388913414\n",
      "测试集得分:0.8417736377639693\n",
      "[0.84177364 2.46986905 1.87433924]\n"
     ]
    }
   ],
   "source": [
    "cv_params = { 'max_depth': [1,2,3, 4,5,6,7,8,9], 'min_child_weight': [1, 2, 3, 4,5,6,7,8,9]}\n",
    "\n",
    "other_params = {'learning_rate': 0.1, 'n_estimators': 110, 'max_depth': 5, 'min_child_weight': 1, 'seed': 0,\n",
    "                    'subsample': 0.8, 'colsample_bytree': 0.8, 'gamma': 0, 'reg_alpha': 0, 'reg_lambda': 1}\n",
    "\n",
    "model = XGBRegressor(**other_params)\n",
    "xgb_cv = GridSearchCV(estimator=model, param_grid=cv_params, scoring='r2', cv=5, verbose=1, n_jobs=4)\n",
    "xgb_cv.fit(x_train, y_train)\n",
    "print('参数的最佳取值：{0}'.format(xgb_cv.best_params_))\n",
    "print('最佳模型得分:{0}'.format(xgb_cv.best_score_))\n",
    "print(\"测试集得分:{0}\".format(xgb_cv.score(x_test,y_test)))\n",
    "print(test(xgb_cv.predict(x_test),y_test))"
   ]
  },
  {
   "cell_type": "code",
   "execution_count": 13,
   "id": "b638e741-967c-451a-8f13-7fbf3594bc7e",
   "metadata": {},
   "outputs": [
    {
     "name": "stdout",
     "output_type": "stream",
     "text": [
      "Fitting 5 folds for each of 9 candidates, totalling 45 fits\n",
      "参数的最佳取值：{'gamma': 0.15}\n",
      "最佳模型得分:0.776406933871695\n",
      "测试集得分:0.83711785823869\n",
      "[0.83711786 2.50594331 1.86855809]\n"
     ]
    }
   ],
   "source": [
    "cv_params = { 'gamma': [0.0001,0.001,0.01,0.05,0.08,0.1,0.15, 0.2, 0.3]}\n",
    "\n",
    "other_params = {'learning_rate': 0.1, 'n_estimators': 110, 'max_depth': 4, 'min_child_weight': 2, 'seed': 0,\n",
    "                    'subsample': 0.8, 'colsample_bytree': 0.8, 'gamma': 0, 'reg_alpha': 0, 'reg_lambda': 1}\n",
    "\n",
    "model = XGBRegressor(**other_params)\n",
    "xgb_cv = GridSearchCV(estimator=model, param_grid=cv_params, scoring='r2', cv=5, verbose=1, n_jobs=4)\n",
    "xgb_cv.fit(x_train, y_train)\n",
    "print('参数的最佳取值：{0}'.format(xgb_cv.best_params_))\n",
    "print('最佳模型得分:{0}'.format(xgb_cv.best_score_))\n",
    "print(\"测试集得分:{0}\".format(xgb_cv.score(x_test,y_test)))\n",
    "print(test(xgb_cv.predict(x_test),y_test))"
   ]
  },
  {
   "cell_type": "code",
   "execution_count": 14,
   "id": "e26f126b-e1ca-4936-bec2-ca85ac57489b",
   "metadata": {},
   "outputs": [
    {
     "name": "stdout",
     "output_type": "stream",
     "text": [
      "Fitting 5 folds for each of 49 candidates, totalling 245 fits\n",
      "参数的最佳取值：{'colsample_bytree': 0.9, 'subsample': 0.9}\n",
      "最佳模型得分:0.802149018282282\n",
      "测试集得分:0.8416076427060772\n",
      "[0.84160764 2.47116428 1.76753808]\n"
     ]
    }
   ],
   "source": [
    "cv_params = { 'subsample': [0.4,0.5,0.6,0.7,0.8,0.9,1], \n",
    "             'colsample_bytree': [0.4,0.5,0.6,0.7,0.8,0.9,1]}\n",
    "\n",
    "other_params = {'learning_rate': 0.1, 'n_estimators': 110, 'max_depth': 4, 'min_child_weight': 2, 'seed': 0,\n",
    "                    'subsample': 0.8, 'colsample_bytree': 0.8, 'gamma': 0.15, 'reg_alpha': 0, 'reg_lambda': 1}\n",
    "\n",
    "model = XGBRegressor(**other_params)\n",
    "xgb_cv = GridSearchCV(estimator=model, param_grid=cv_params, scoring='r2', cv=5, verbose=1, n_jobs=4)\n",
    "xgb_cv.fit(x_train, y_train)\n",
    "print('参数的最佳取值：{0}'.format(xgb_cv.best_params_))\n",
    "print('最佳模型得分:{0}'.format(xgb_cv.best_score_))\n",
    "print(\"测试集得分:{0}\".format(xgb_cv.score(x_test,y_test)))\n",
    "print(test(xgb_cv.predict(x_test),y_test))"
   ]
  },
  {
   "cell_type": "code",
   "execution_count": 15,
   "id": "272360c0-8efb-487b-855a-3e41a2465c22",
   "metadata": {},
   "outputs": [
    {
     "name": "stdout",
     "output_type": "stream",
     "text": [
      "Fitting 5 folds for each of 24 candidates, totalling 120 fits\n",
      "参数的最佳取值：{'reg_alpha': 0.05, 'reg_lambda': 1}\n",
      "最佳模型得分:0.8066532418557395\n",
      "测试集得分:0.8404939296417173\n",
      "[0.84049393 2.47983688 1.77829998]\n"
     ]
    }
   ],
   "source": [
    "cv_params = { 'reg_alpha': [0.05,0.01, 0.1, 1], 'reg_lambda': [0.05,0.01, 0.1, 1,5,10]}\n",
    "\n",
    "other_params = {'learning_rate': 0.1, 'n_estimators': 110, 'max_depth': 4, 'min_child_weight': 2, 'seed': 0,\n",
    "                    'subsample': 0.9, 'colsample_bytree': 0.9, 'gamma': 0.15, 'reg_alpha': 0, 'reg_lambda': 1}\n",
    "\n",
    "model = XGBRegressor(**other_params)\n",
    "xgb_cv = GridSearchCV(estimator=model, param_grid=cv_params, scoring='r2', cv=5, verbose=1, n_jobs=4)\n",
    "xgb_cv.fit(x_train, y_train)\n",
    "print('参数的最佳取值：{0}'.format(xgb_cv.best_params_))\n",
    "print('最佳模型得分:{0}'.format(xgb_cv.best_score_))\n",
    "print(\"测试集得分:{0}\".format(xgb_cv.score(x_test,y_test)))\n",
    "print(test(xgb_cv.predict(x_test),y_test))"
   ]
  },
  {
   "cell_type": "code",
   "execution_count": 16,
   "id": "216b840d-929b-4dad-a30b-26c19cf4fb67",
   "metadata": {},
   "outputs": [
    {
     "name": "stdout",
     "output_type": "stream",
     "text": [
      "Fitting 5 folds for each of 8 candidates, totalling 40 fits\n",
      "参数的最佳取值：{'learning_rate': 0.1}\n",
      "最佳模型得分:0.8066532418557395\n",
      "测试集得分:0.8404939296417173\n",
      "[0.84049393 2.47983688 1.77829998]\n"
     ]
    }
   ],
   "source": [
    "cv_params = {  'learning_rate': [0.001, 0.01, 0.05, 0.07, 0.1,0.3,0.5,1]}\n",
    "\n",
    "other_params = {'learning_rate': 0.1, 'n_estimators': 110, 'max_depth': 4, 'min_child_weight': 2, 'seed': 0,\n",
    "                    'subsample': 0.9, 'colsample_bytree': 0.9, 'gamma': 0.15, 'reg_alpha': 0.05, 'reg_lambda': 1}\n",
    "\n",
    "model = XGBRegressor(**other_params)\n",
    "xgb_cv = GridSearchCV(estimator=model, param_grid=cv_params, scoring='r2', cv=5, verbose=1, n_jobs=4)\n",
    "xgb_cv.fit(x_train, y_train)\n",
    "print('参数的最佳取值：{0}'.format(xgb_cv.best_params_))\n",
    "print('最佳模型得分:{0}'.format(xgb_cv.best_score_))\n",
    "print(\"测试集得分:{0}\".format(xgb_cv.score(x_test,y_test)))\n",
    "print(test(xgb_cv.predict(x_test),y_test))"
   ]
  },
  {
   "cell_type": "code",
   "execution_count": 17,
   "id": "202efb82-3b93-4ac2-a39d-0d78a101077e",
   "metadata": {},
   "outputs": [
    {
     "name": "stdout",
     "output_type": "stream",
     "text": [
      "模型得分:0.9728154770226612\n",
      "测试集得分:0.976685683650509\n"
     ]
    }
   ],
   "source": [
    "other_params = {'learning_rate': 0.1, 'n_estimators': 110, 'max_depth': 4, 'min_child_weight': 2, 'seed': 0,\n",
    "                    'subsample': 0.9, 'colsample_bytree': 0.9, 'gamma': 0.15, 'reg_alpha': 0.05, 'reg_lambda': 1}\n",
    "model = XGBRegressor(**other_params)\n",
    "model.fit(x, y)\n",
    "print('模型得分:{0}'.format(model.score(x,y)))\n",
    "print(\"测试集得分:{0}\".format(model.score(x_test,y_test)))"
   ]
  },
  {
   "cell_type": "markdown",
   "id": "b26fc91a-ac2d-4873-91fd-b55ee3a9ed06",
   "metadata": {},
   "source": [
    "##通过网格搜索确定模型的超参数，将全部的数据用于训练模型并且保存模型参数\n"
   ]
  },
  {
   "cell_type": "code",
   "execution_count": 18,
   "id": "3cb53e30-0b75-472d-b8a0-4cf04b917c7a",
   "metadata": {},
   "outputs": [
    {
     "data": {
      "text/plain": [
       "0.9548216694607896"
      ]
     },
     "execution_count": 18,
     "metadata": {},
     "output_type": "execute_result"
    }
   ],
   "source": [
    "other_params = {'learning_rate': 0.1, 'n_estimators': 80, 'max_depth': 4, 'min_child_weight': 6, 'seed': 0,\n",
    "                    'subsample': 0.8, 'colsample_bytree': 0.7, 'gamma': 0.15, 'reg_alpha': 0.05, 'reg_lambda':0.1 }\n",
    "model = XGBRegressor(**other_params)\n",
    "model.fit(x, y)\n",
    "model.score(x,y)"
   ]
  },
  {
   "cell_type": "code",
   "execution_count": 29,
   "id": "86efb20b-ae8a-4b70-8b31-6c3a0e0f9f92",
   "metadata": {},
   "outputs": [],
   "source": [
    "#模型保存为model和txt两种格式\n",
    "def model_save_type(model):\n",
    "    # 模型训练完成后做持久化，模型保存为model模式，便于调用预测\n",
    "    model.save_model('./model_save/xgb_regression.json')\n",
    "\n",
    "    # 模型保存为文本格式，便于分析、优化和提供可解释性\n",
    "    res = model.get_booster()\n",
    "    res.dump_model('./model_save/xgb_regression.txt')\n"
   ]
  },
  {
   "cell_type": "code",
   "execution_count": null,
   "id": "df621419-1bd6-4175-8de1-ec406a3165ea",
   "metadata": {},
   "outputs": [],
   "source": []
  }
 ],
 "metadata": {
  "kernelspec": {
   "display_name": "Python 3 (ipykernel)",
   "language": "python",
   "name": "python3"
  },
  "language_info": {
   "codemirror_mode": {
    "name": "ipython",
    "version": 3
   },
   "file_extension": ".py",
   "mimetype": "text/x-python",
   "name": "python",
   "nbconvert_exporter": "python",
   "pygments_lexer": "ipython3",
   "version": "3.8.17"
  }
 },
 "nbformat": 4,
 "nbformat_minor": 5
}
